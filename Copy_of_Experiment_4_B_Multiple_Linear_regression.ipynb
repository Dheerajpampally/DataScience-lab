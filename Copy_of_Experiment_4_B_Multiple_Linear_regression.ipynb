{
  "cells": [
    {
      "cell_type": "markdown",
      "id": "892f0f1b",
      "metadata": {
        "id": "892f0f1b"
      },
      "source": [
        "Step 1:Import libraries"
      ]
    },
    {
      "cell_type": "code",
      "execution_count": null,
      "id": "96893eec",
      "metadata": {
        "id": "96893eec"
      },
      "outputs": [],
      "source": [
        "import pandas as pd\n",
        "import numpy as np"
      ]
    },
    {
      "cell_type": "markdown",
      "id": "d4ecbf22",
      "metadata": {
        "id": "d4ecbf22"
      },
      "source": [
        "step 2:Import Dataset"
      ]
    },
    {
      "cell_type": "code",
      "execution_count": null,
      "id": "6e401254",
      "metadata": {
        "id": "6e401254",
        "outputId": "920effe6-87e8-4537-a1b7-63f52bc40578"
      },
      "outputs": [
        {
          "data": {
            "text/html": [
              "<div>\n",
              "<style scoped>\n",
              "    .dataframe tbody tr th:only-of-type {\n",
              "        vertical-align: middle;\n",
              "    }\n",
              "\n",
              "    .dataframe tbody tr th {\n",
              "        vertical-align: top;\n",
              "    }\n",
              "\n",
              "    .dataframe thead th {\n",
              "        text-align: right;\n",
              "    }\n",
              "</style>\n",
              "<table border=\"1\" class=\"dataframe\">\n",
              "  <thead>\n",
              "    <tr style=\"text-align: right;\">\n",
              "      <th></th>\n",
              "      <th>AT</th>\n",
              "      <th>V</th>\n",
              "      <th>AP</th>\n",
              "      <th>RH</th>\n",
              "      <th>PE</th>\n",
              "    </tr>\n",
              "  </thead>\n",
              "  <tbody>\n",
              "    <tr>\n",
              "      <th>0</th>\n",
              "      <td>14.96</td>\n",
              "      <td>41.76</td>\n",
              "      <td>1024.07</td>\n",
              "      <td>73.17</td>\n",
              "      <td>463.26</td>\n",
              "    </tr>\n",
              "    <tr>\n",
              "      <th>1</th>\n",
              "      <td>25.18</td>\n",
              "      <td>62.96</td>\n",
              "      <td>1020.04</td>\n",
              "      <td>59.08</td>\n",
              "      <td>444.37</td>\n",
              "    </tr>\n",
              "    <tr>\n",
              "      <th>2</th>\n",
              "      <td>5.11</td>\n",
              "      <td>39.40</td>\n",
              "      <td>1012.16</td>\n",
              "      <td>92.14</td>\n",
              "      <td>488.56</td>\n",
              "    </tr>\n",
              "    <tr>\n",
              "      <th>3</th>\n",
              "      <td>20.86</td>\n",
              "      <td>57.32</td>\n",
              "      <td>1010.24</td>\n",
              "      <td>76.64</td>\n",
              "      <td>446.48</td>\n",
              "    </tr>\n",
              "    <tr>\n",
              "      <th>4</th>\n",
              "      <td>10.82</td>\n",
              "      <td>37.50</td>\n",
              "      <td>1009.23</td>\n",
              "      <td>96.62</td>\n",
              "      <td>473.90</td>\n",
              "    </tr>\n",
              "  </tbody>\n",
              "</table>\n",
              "</div>"
            ],
            "text/plain": [
              "      AT      V       AP     RH      PE\n",
              "0  14.96  41.76  1024.07  73.17  463.26\n",
              "1  25.18  62.96  1020.04  59.08  444.37\n",
              "2   5.11  39.40  1012.16  92.14  488.56\n",
              "3  20.86  57.32  1010.24  76.64  446.48\n",
              "4  10.82  37.50  1009.23  96.62  473.90"
            ]
          },
          "execution_count": 8,
          "metadata": {},
          "output_type": "execute_result"
        }
      ],
      "source": [
        "data_df=pd.read_excel('CCCP.xlsx')\n",
        "data_df.head()"
      ]
    },
    {
      "cell_type": "markdown",
      "id": "19d1fb6f",
      "metadata": {
        "id": "19d1fb6f"
      },
      "source": [
        "step 3: Define x and y "
      ]
    },
    {
      "cell_type": "code",
      "execution_count": null,
      "id": "e5949f8a",
      "metadata": {
        "id": "e5949f8a"
      },
      "outputs": [],
      "source": [
        "x=data_df.drop(['PE'],axis=1).values\n",
        "y=data_df['PE'].values"
      ]
    },
    {
      "cell_type": "code",
      "execution_count": null,
      "id": "94406652",
      "metadata": {
        "id": "94406652",
        "outputId": "715cdd34-ab64-49b3-87a7-a214b37475de"
      },
      "outputs": [
        {
          "name": "stdout",
          "output_type": "stream",
          "text": [
            "[[  14.96   41.76 1024.07   73.17]\n",
            " [  25.18   62.96 1020.04   59.08]\n",
            " [   5.11   39.4  1012.16   92.14]\n",
            " ...\n",
            " [  31.32   74.33 1012.92   36.48]\n",
            " [  24.48   69.45 1013.86   62.39]\n",
            " [  21.6    62.52 1017.23   67.87]]\n"
          ]
        }
      ],
      "source": [
        "print(x)\n"
      ]
    },
    {
      "cell_type": "code",
      "execution_count": null,
      "id": "355a9fd4",
      "metadata": {
        "id": "355a9fd4",
        "outputId": "8def4f21-cb83-453f-a378-1e249c2d48df"
      },
      "outputs": [
        {
          "name": "stdout",
          "output_type": "stream",
          "text": [
            "[463.26 444.37 488.56 ... 429.57 435.74 453.28]\n"
          ]
        }
      ],
      "source": [
        "print(y)\n"
      ]
    },
    {
      "cell_type": "markdown",
      "id": "17ef23f1",
      "metadata": {
        "id": "17ef23f1"
      },
      "source": [
        "Step 4 :Split the dataset in training and test set"
      ]
    },
    {
      "cell_type": "code",
      "execution_count": null,
      "id": "63e378f9",
      "metadata": {
        "id": "63e378f9"
      },
      "outputs": [],
      "source": [
        "from sklearn.model_selection import train_test_split\n",
        "x_train,x_test,y_train,y_test=train_test_split(x,y,test_size=0.33, random_state=0)"
      ]
    },
    {
      "cell_type": "markdown",
      "id": "808f24e9",
      "metadata": {
        "id": "808f24e9"
      },
      "source": [
        "step 5: Train the model on the training set"
      ]
    },
    {
      "cell_type": "code",
      "execution_count": null,
      "id": "e35f1c4e",
      "metadata": {
        "id": "e35f1c4e",
        "outputId": "21b406ac-de0f-4496-9be4-8603fc8a328f"
      },
      "outputs": [
        {
          "data": {
            "text/plain": [
              "LinearRegression()"
            ]
          },
          "execution_count": 15,
          "metadata": {},
          "output_type": "execute_result"
        }
      ],
      "source": [
        "#Fitting Simple Linear Regression to the Training set\n",
        "from sklearn.linear_model import LinearRegression\n",
        "regressor = LinearRegression()\n",
        "regressor.fit(x_train, y_train)"
      ]
    },
    {
      "cell_type": "markdown",
      "id": "7837df02",
      "metadata": {
        "id": "7837df02"
      },
      "source": [
        "step 6 : Predict the test results"
      ]
    },
    {
      "cell_type": "code",
      "execution_count": null,
      "id": "e11136e5",
      "metadata": {
        "id": "e11136e5",
        "outputId": "358b30f2-e35e-46b4-d895-c89b833488e8"
      },
      "outputs": [
        {
          "name": "stdout",
          "output_type": "stream",
          "text": [
            "[431.39746929 458.61306823 462.8132933  ... 430.24576539 464.47083536\n",
            " 444.08498274]\n"
          ]
        }
      ],
      "source": [
        "y_pred = regressor.predict(x_test)\n",
        "print(y_pred)"
      ]
    },
    {
      "cell_type": "code",
      "execution_count": null,
      "id": "33612249",
      "metadata": {
        "id": "33612249",
        "outputId": "cd60a656-15cb-4a61-8257-3792e1bce98e"
      },
      "outputs": [
        {
          "data": {
            "text/plain": [
              "array([467.36527472])"
            ]
          },
          "execution_count": 22,
          "metadata": {},
          "output_type": "execute_result"
        }
      ],
      "source": [
        "regressor.predict([[14.96,41.76,1024.07,73.17]])"
      ]
    },
    {
      "cell_type": "markdown",
      "id": "771480f7",
      "metadata": {
        "id": "771480f7"
      },
      "source": [
        "Step 7 : Evaluate the model"
      ]
    },
    {
      "cell_type": "code",
      "execution_count": null,
      "id": "f8ac16ef",
      "metadata": {
        "id": "f8ac16ef",
        "outputId": "bfe9f571-ef16-4c52-c9ab-1af4ae8767c6"
      },
      "outputs": [
        {
          "data": {
            "text/plain": [
              "0.9310173107097915"
            ]
          },
          "execution_count": 25,
          "metadata": {},
          "output_type": "execute_result"
        }
      ],
      "source": [
        "from sklearn.metrics import r2_score\n",
        "r2_score(y_test,y_pred)"
      ]
    },
    {
      "cell_type": "markdown",
      "id": "b28eeaab",
      "metadata": {
        "id": "b28eeaab"
      },
      "source": [
        "Step 8 : Plot the results"
      ]
    },
    {
      "cell_type": "code",
      "execution_count": null,
      "id": "4d2f6d3f",
      "metadata": {
        "id": "4d2f6d3f",
        "outputId": "1fadab0f-5377-463b-cf31-98e929273a4f"
      },
      "outputs": [
        {
          "data": {
            "text/plain": [
              "Text(0.5, 1.0, 'ACTUAL VS pREDICTED')"
            ]
          },
          "execution_count": 29,
          "metadata": {},
          "output_type": "execute_result"
        },
        {
          "data": {
            "image/png": "[encoded data removed]",
            "text/plain": [
              "<Figure size 1080x720 with 1 Axes>"
            ]
          },
          "metadata": {
            "needs_background": "light"
          },
          "output_type": "display_data"
        }
      ],
      "source": [
        "import matplotlib.pyplot as plt\n",
        "plt.figure(figsize=(15,10))\n",
        "plt.scatter(y_test,y_pred)\n",
        "plt.xlabel('Actual')\n",
        "plt.ylabel('predicted')\n",
        "plt.title('ACTUAL VS pREDICTED')\n",
        "\n"
      ]
    }
  ],
  "metadata": {
    "kernelspec": {
      "display_name": "Python 3",
      "language": "python",
      "name": "python3"
    },
    "language_info": {
      "codemirror_mode": {
        "name": "ipython",
        "version": 3
      },
      "file_extension": ".py",
      "mimetype": "text/x-python",
      "name": "python",
      "nbconvert_exporter": "python",
      "pygments_lexer": "ipython3",
      "version": "3.8.8"
    },
    "colab": {
      "provenance": []
    }
  },
  "nbformat": 4,
  "nbformat_minor": 5
}