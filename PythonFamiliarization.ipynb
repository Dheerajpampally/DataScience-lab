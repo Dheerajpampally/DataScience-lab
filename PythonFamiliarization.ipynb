{
 "cells": [
  {
   "cell_type": "code",
   "execution_count": 1,
   "id": "6fffa4bc",
   "metadata": {},
   "outputs": [
    {
     "name": "stdout",
     "output_type": "stream",
     "text": [
      "<class 'int'>\n"
     ]
    }
   ],
   "source": [
    "a=5\n",
    "print(type(a))\n"
   ]
  },
  {
   "cell_type": "code",
   "execution_count": 2,
   "id": "e9555f64",
   "metadata": {},
   "outputs": [
    {
     "name": "stdout",
     "output_type": "stream",
     "text": [
      "1.8\n",
      "<class 'float'>\n"
     ]
    }
   ],
   "source": [
    "f=1.8\n",
    "print(f)\n",
    "print(type(f))"
   ]
  },
  {
   "cell_type": "code",
   "execution_count": 4,
   "id": "039271e8",
   "metadata": {},
   "outputs": [
    {
     "name": "stdout",
     "output_type": "stream",
     "text": [
      "hello\n",
      "<class 'str'>\n"
     ]
    }
   ],
   "source": [
    "s=\"hello\"\n",
    "print(s)\n",
    "print(type(s))\n"
   ]
  },
  {
   "cell_type": "code",
   "execution_count": 5,
   "id": "97ffc990",
   "metadata": {},
   "outputs": [
    {
     "name": "stdout",
     "output_type": "stream",
     "text": [
      "True\n",
      "<class 'bool'>\n"
     ]
    }
   ],
   "source": [
    "b=True\n",
    "print(b)\n",
    "print(type(b))\n"
   ]
  },
  {
   "cell_type": "code",
   "execution_count": 7,
   "id": "98f9a56b",
   "metadata": {},
   "outputs": [
    {
     "name": "stdout",
     "output_type": "stream",
     "text": [
      "(2+5j)\n",
      "<class 'complex'>\n"
     ]
    }
   ],
   "source": [
    "t=2+5j \n",
    "print(t)\n",
    "print(type(t))"
   ]
  },
  {
   "cell_type": "code",
   "execution_count": 8,
   "id": "6bb924b6",
   "metadata": {},
   "outputs": [
    {
     "name": "stdout",
     "output_type": "stream",
     "text": [
      "12\n"
     ]
    }
   ],
   "source": [
    "a=5\n",
    "b=7\n",
    "abadd = a+b\n",
    "print(abadd)"
   ]
  },
  {
   "cell_type": "code",
   "execution_count": 10,
   "id": "53a729a7",
   "metadata": {},
   "outputs": [
    {
     "name": "stdout",
     "output_type": "stream",
     "text": [
      "2\n"
     ]
    }
   ],
   "source": [
    "a=4\n",
    "b=2\n",
    "absub=a-b\n",
    "print(absub)"
   ]
  },
  {
   "cell_type": "code",
   "execution_count": 11,
   "id": "b344df9e",
   "metadata": {},
   "outputs": [
    {
     "name": "stdout",
     "output_type": "stream",
     "text": [
      "24\n"
     ]
    }
   ],
   "source": [
    "a=6\n",
    "b=4\n",
    "abmul=a*b\n",
    "print(abmul)"
   ]
  },
  {
   "cell_type": "code",
   "execution_count": 12,
   "id": "51e81e54",
   "metadata": {},
   "outputs": [
    {
     "name": "stdout",
     "output_type": "stream",
     "text": [
      "9.0\n"
     ]
    }
   ],
   "source": [
    "a=36\n",
    "b=4\n",
    "abdiv=a/b\n",
    "print(abdiv)"
   ]
  },
  {
   "cell_type": "code",
   "execution_count": 13,
   "id": "832d363b",
   "metadata": {},
   "outputs": [
    {
     "name": "stdout",
     "output_type": "stream",
     "text": [
      "11\n"
     ]
    }
   ],
   "source": [
    "a=55\n",
    "b=5\n",
    "abiq=a//b\n",
    "print(abiq)"
   ]
  },
  {
   "cell_type": "code",
   "execution_count": 15,
   "id": "dfdaf78b",
   "metadata": {},
   "outputs": [
    {
     "name": "stdout",
     "output_type": "stream",
     "text": [
      "4\n"
     ]
    }
   ],
   "source": [
    "a=60\n",
    "b=7\n",
    "abrem=a%b\n",
    "print(abrem)"
   ]
  },
  {
   "cell_type": "code",
   "execution_count": 16,
   "id": "eaf1e6eb",
   "metadata": {},
   "outputs": [
    {
     "name": "stdout",
     "output_type": "stream",
     "text": [
      "3111696\n"
     ]
    }
   ],
   "source": [
    "a=42\n",
    "b=4\n",
    "abp=a**b\n",
    "print(abp)"
   ]
  },
  {
   "cell_type": "code",
   "execution_count": 18,
   "id": "e8a78d53",
   "metadata": {},
   "outputs": [
    {
     "name": "stdout",
     "output_type": "stream",
     "text": [
      "True False\n"
     ]
    }
   ],
   "source": [
    "t=True\n",
    "f=False\n",
    "print(t,f)"
   ]
  },
  {
   "cell_type": "code",
   "execution_count": 19,
   "id": "3f45822d",
   "metadata": {},
   "outputs": [
    {
     "name": "stdout",
     "output_type": "stream",
     "text": [
      "True\n"
     ]
    }
   ],
   "source": [
    "p=5>3\n",
    "print(p)"
   ]
  },
  {
   "cell_type": "code",
   "execution_count": 20,
   "id": "980f4874",
   "metadata": {},
   "outputs": [
    {
     "name": "stdout",
     "output_type": "stream",
     "text": [
      "False\n"
     ]
    }
   ],
   "source": [
    "q=-1<=-33\n",
    "print(q)"
   ]
  },
  {
   "cell_type": "code",
   "execution_count": 21,
   "id": "f2b3f4c9",
   "metadata": {},
   "outputs": [
    {
     "name": "stdout",
     "output_type": "stream",
     "text": [
      "False\n"
     ]
    }
   ],
   "source": [
    "print(p and q)"
   ]
  },
  {
   "cell_type": "code",
   "execution_count": 22,
   "id": "fc731de2",
   "metadata": {},
   "outputs": [
    {
     "name": "stdout",
     "output_type": "stream",
     "text": [
      "True\n"
     ]
    }
   ],
   "source": [
    "print(p or q)"
   ]
  },
  {
   "cell_type": "code",
   "execution_count": 23,
   "id": "30272c89",
   "metadata": {},
   "outputs": [
    {
     "name": "stdout",
     "output_type": "stream",
     "text": [
      "True\n"
     ]
    }
   ],
   "source": [
    "print(not q)"
   ]
  },
  {
   "cell_type": "code",
   "execution_count": 24,
   "id": "c8454d3b",
   "metadata": {},
   "outputs": [
    {
     "name": "stdout",
     "output_type": "stream",
     "text": [
      "hello hello\n"
     ]
    }
   ],
   "source": [
    "s='hello'\n",
    "p=\"hello\"\n",
    "print(s,p)"
   ]
  },
  {
   "cell_type": "code",
   "execution_count": 25,
   "id": "0c144e8b",
   "metadata": {},
   "outputs": [
    {
     "name": "stdout",
     "output_type": "stream",
     "text": [
      "python world\n"
     ]
    }
   ],
   "source": [
    "s1=\"python\"\n",
    "s2=\"world\"\n",
    "s3=s1+ ' '+s2\n",
    "print(s3)"
   ]
  },
  {
   "cell_type": "code",
   "execution_count": 26,
   "id": "76d52df7",
   "metadata": {},
   "outputs": [
    {
     "name": "stdout",
     "output_type": "stream",
     "text": [
      "pythonworld1011\n",
      "15\n"
     ]
    }
   ],
   "source": [
    "s3=\"%s%s%d\"%(s1,s2,1011)\n",
    "print(s3)\n",
    "print(len(s3))"
   ]
  },
  {
   "cell_type": "code",
   "execution_count": 27,
   "id": "9305773a",
   "metadata": {},
   "outputs": [
    {
     "name": "stdout",
     "output_type": "stream",
     "text": [
      "PYTHONWORLD1011\n"
     ]
    }
   ],
   "source": [
    "print(s3.upper())"
   ]
  },
  {
   "cell_type": "code",
   "execution_count": 28,
   "id": "2adcbb52",
   "metadata": {},
   "outputs": [
    {
     "name": "stdout",
     "output_type": "stream",
     "text": [
      "Pythonworld1011\n"
     ]
    }
   ],
   "source": [
    "print(s3.capitalize())"
   ]
  },
  {
   "cell_type": "code",
   "execution_count": 29,
   "id": "725ee18a",
   "metadata": {},
   "outputs": [
    {
     "name": "stdout",
     "output_type": "stream",
     "text": [
      "pythonworld1011\n"
     ]
    }
   ],
   "source": [
    "print(s3.lower())"
   ]
  },
  {
   "cell_type": "code",
   "execution_count": 30,
   "id": "898d543d",
   "metadata": {},
   "outputs": [
    {
     "name": "stdout",
     "output_type": "stream",
     "text": [
      "['hell0', 'world', 'how', 'are', 'you']\n"
     ]
    }
   ],
   "source": [
    "print(\"hell0 world how are you\".split(\" \"))"
   ]
  },
  {
   "cell_type": "code",
   "execution_count": 31,
   "id": "af4b2442",
   "metadata": {},
   "outputs": [
    {
     "name": "stdout",
     "output_type": "stream",
     "text": [
      "beek\n"
     ]
    }
   ],
   "source": [
    "print('book'.replace('o','e'))\n"
   ]
  },
  {
   "cell_type": "code",
   "execution_count": 34,
   "id": "5f1a58b7",
   "metadata": {},
   "outputs": [
    {
     "name": "stdout",
     "output_type": "stream",
     "text": [
      "2\n",
      "8\n"
     ]
    }
   ],
   "source": [
    "word = 'jewellery'\n",
    "print(word.find('well'))\n",
    "print(word.find('y'))"
   ]
  },
  {
   "cell_type": "code",
   "execution_count": 47,
   "id": "c4ea98ea",
   "metadata": {},
   "outputs": [
    {
     "name": "stdout",
     "output_type": "stream",
     "text": [
      "enter a number666\n",
      "3 digit\n"
     ]
    }
   ],
   "source": [
    "\n",
    "number=int(input(\"enter a number\"))\n",
    "if number > 99 and number < 1000:\n",
    "    print('3 digit')\n",
    "\n",
    "else:\n",
    "\n",
    "    print('Not 3 digit')"
   ]
  },
  {
   "cell_type": "code",
   "execution_count": 1,
   "id": "3ef54142",
   "metadata": {},
   "outputs": [
    {
     "name": "stdout",
     "output_type": "stream",
     "text": [
      "Are you familiar with pythonyes\n",
      "sorry\n"
     ]
    }
   ],
   "source": [
    "res=input(\"Are you familiar with python\")\n",
    "if res.upper()==\"yes\":\n",
    "    print(\"ypu can skipp\") \n",
    "elif res.upper()==\"no\":\n",
    "        print(\"comeon\")\n",
    "else:\n",
    "    print(\"sorry\")\n",
    "    "
   ]
  },
  {
   "cell_type": "code",
   "execution_count": 3,
   "id": "9a362f74",
   "metadata": {},
   "outputs": [
    {
     "name": "stdout",
     "output_type": "stream",
     "text": [
      "0 1 2 3 4 5 6 7 8 9 "
     ]
    }
   ],
   "source": [
    "for x in range(10):\n",
    "    print(x,end=' ')"
   ]
  },
  {
   "cell_type": "code",
   "execution_count": 8,
   "id": "e511e5ac",
   "metadata": {},
   "outputs": [
    {
     "name": "stdout",
     "output_type": "stream",
     "text": [
      "Enter a limit : 10\n",
      "Odd sum = 25\n"
     ]
    }
   ],
   "source": [
    "limit = int(input('Enter a limit : ')) \n",
    "sum = 0\n",
    "\n",
    "for i in range(1,limit + 1): \n",
    "    if i%2 !=0:\n",
    "        sum += i\n",
    "print(\"Odd sum = \"+str(sum))"
   ]
  },
  {
   "cell_type": "code",
   "execution_count": 12,
   "id": "84dc90e1",
   "metadata": {},
   "outputs": [
    {
     "name": "stdout",
     "output_type": "stream",
     "text": [
      "Enter number : 1254\n",
      "12\n"
     ]
    }
   ],
   "source": [
    "number = int(input('Enter number : '))\n",
    "s = 0\n",
    "while number > 0 :\n",
    "    s += number%10\n",
    "    number = number//10\n",
    "print(s)"
   ]
  },
  {
   "cell_type": "code",
   "execution_count": 31,
   "id": "665784af",
   "metadata": {},
   "outputs": [
    {
     "name": "stdout",
     "output_type": "stream",
     "text": [
      "Enter number : 400\n"
     ]
    }
   ],
   "source": [
    "limit = int(input('Enter number : ')) \n",
    "for num in range(2,limit+1):\n",
    "    is_divisible = False\n",
    "k=2\n",
    "while k <= num // 2 :\n",
    "    if num % k == 0:\n",
    "        is_divisible=True\n",
    "        break;\n",
    "k += 1\n",
    "if not is_divisible:\n",
    "    print(num,end=' ')"
   ]
  },
  {
   "cell_type": "code",
   "execution_count": 32,
   "id": "80dad14f",
   "metadata": {},
   "outputs": [
    {
     "name": "stdout",
     "output_type": "stream",
     "text": [
      "['a', 'b', 1, 1.2, True]\n"
     ]
    }
   ],
   "source": [
    "mylist = ['a','b', 1, 1.2, True]\n",
    "print(mylist)"
   ]
  },
  {
   "cell_type": "code",
   "execution_count": 33,
   "id": "b7edb85b",
   "metadata": {},
   "outputs": [
    {
     "name": "stdout",
     "output_type": "stream",
     "text": [
      "['a', 'b', 1, 1.2, True, 'new']\n"
     ]
    }
   ],
   "source": [
    "mylist.append('new')\n",
    "\n",
    "print(mylist)"
   ]
  },
  {
   "cell_type": "code",
   "execution_count": 34,
   "id": "eca11664",
   "metadata": {},
   "outputs": [
    {
     "name": "stdout",
     "output_type": "stream",
     "text": [
      "new\n"
     ]
    }
   ],
   "source": [
    "print(mylist.pop())"
   ]
  },
  {
   "cell_type": "code",
   "execution_count": 35,
   "id": "7a9f8cf2",
   "metadata": {},
   "outputs": [
    {
     "name": "stdout",
     "output_type": "stream",
     "text": [
      "['a', 'b', 'new', 1, 1.2, True]\n"
     ]
    }
   ],
   "source": [
    "mylist.insert(2,'new')\n",
    "print(mylist)"
   ]
  },
  {
   "cell_type": "code",
   "execution_count": 36,
   "id": "ee496c10",
   "metadata": {},
   "outputs": [
    {
     "name": "stdout",
     "output_type": "stream",
     "text": [
      "['a', 'b', 1, 1.2, True]\n"
     ]
    }
   ],
   "source": [
    "mylist.remove('new')\n",
    "\n",
    "print(mylist)"
   ]
  },
  {
   "cell_type": "code",
   "execution_count": 37,
   "id": "3d02e4c5",
   "metadata": {},
   "outputs": [
    {
     "name": "stdout",
     "output_type": "stream",
     "text": [
      "['a', 'b', 1, 1.2, True, [1, 2, 3]]\n"
     ]
    }
   ],
   "source": [
    "b = [1,2,3]\n",
    "\n",
    "mylist.append(b)\n",
    "print(mylist)"
   ]
  },
  {
   "cell_type": "code",
   "execution_count": 38,
   "id": "65062e6f",
   "metadata": {},
   "outputs": [
    {
     "name": "stdout",
     "output_type": "stream",
     "text": [
      "['a', 'b', 1, 1.2, True]\n"
     ]
    }
   ],
   "source": [
    "mylist.remove(b)\n",
    "\n",
    "print(mylist)"
   ]
  },
  {
   "cell_type": "code",
   "execution_count": 39,
   "id": "89c8fd05",
   "metadata": {},
   "outputs": [
    {
     "name": "stdout",
     "output_type": "stream",
     "text": [
      "['a', 'b', 1, 1.2, True, 1, 2, 3]\n"
     ]
    }
   ],
   "source": [
    "mylist.extend(b)\n",
    "\n",
    "print(mylist)"
   ]
  },
  {
   "cell_type": "code",
   "execution_count": 40,
   "id": "7b1f9cb8",
   "metadata": {},
   "outputs": [
    {
     "name": "stdout",
     "output_type": "stream",
     "text": [
      "[1, 2, 3, 4, 5]\n"
     ]
    }
   ],
   "source": [
    "a = [2,3,1,4,5]\n",
    "\n",
    "a.sort()\n",
    "\n",
    "print(a)"
   ]
  },
  {
   "cell_type": "code",
   "execution_count": 41,
   "id": "c56c1e0d",
   "metadata": {},
   "outputs": [
    {
     "name": "stdout",
     "output_type": "stream",
     "text": [
      "['h', 'e', 'l', 'l', 'o']\n"
     ]
    }
   ],
   "source": [
    "print(list('hello'))"
   ]
  },
  {
   "cell_type": "code",
   "execution_count": 46,
   "id": "f796bf30",
   "metadata": {},
   "outputs": [
    {
     "name": "stdout",
     "output_type": "stream",
     "text": [
      "2 5\n"
     ]
    }
   ],
   "source": [
    "print(a[1],a[-1])"
   ]
  },
  {
   "cell_type": "code",
   "execution_count": 50,
   "id": "c1b1851e",
   "metadata": {},
   "outputs": [
    {
     "name": "stdout",
     "output_type": "stream",
     "text": [
      "[3, 4]\n"
     ]
    }
   ],
   "source": [
    "sliced = a[2:4]\n",
    "print(sliced)"
   ]
  },
  {
   "cell_type": "code",
   "execution_count": 53,
   "id": "0c304dfd",
   "metadata": {},
   "outputs": [
    {
     "name": "stdout",
     "output_type": "stream",
     "text": [
      "[3, 4, 5]\n"
     ]
    }
   ],
   "source": [
    "sliced = a[2:]\n",
    "print(sliced)"
   ]
  },
  {
   "cell_type": "code",
   "execution_count": 54,
   "id": "077ddf81",
   "metadata": {},
   "outputs": [
    {
     "name": "stdout",
     "output_type": "stream",
     "text": [
      "[1, 2, 3, 4]\n"
     ]
    }
   ],
   "source": [
    "sliced = a[:4]\n",
    "print(sliced)"
   ]
  },
  {
   "cell_type": "code",
   "execution_count": 55,
   "id": "f3589a38",
   "metadata": {},
   "outputs": [
    {
     "name": "stdout",
     "output_type": "stream",
     "text": [
      "[4, 5]\n"
     ]
    }
   ],
   "source": [
    "sliced = a[-2:]\n",
    "print(sliced)"
   ]
  },
  {
   "cell_type": "code",
   "execution_count": 56,
   "id": "9f83478d",
   "metadata": {},
   "outputs": [
    {
     "name": "stdout",
     "output_type": "stream",
     "text": [
      "[1, 2, 3, 4, 5, 6, 7]\n"
     ]
    }
   ],
   "source": [
    "numbers = list(range(1, 8))\n",
    "\n",
    "print(numbers)"
   ]
  },
  {
   "cell_type": "code",
   "execution_count": 58,
   "id": "f1308386",
   "metadata": {},
   "outputs": [
    {
     "name": "stdout",
     "output_type": "stream",
     "text": [
      "[1, 4, 9, 16, 25, 36, 49]\n"
     ]
    }
   ],
   "source": [
    "square = []\n",
    "\n",
    "for i in numbers:\n",
    "\n",
    "    square.append(pow(i,2))\n",
    "\n",
    "print(square)"
   ]
  },
  {
   "cell_type": "code",
   "execution_count": 59,
   "id": "8e0c737b",
   "metadata": {},
   "outputs": [
    {
     "name": "stdout",
     "output_type": "stream",
     "text": [
      "[1, 4, 9, 16, 25, 36, 49]\n"
     ]
    }
   ],
   "source": [
    "square = [x**2 for x in numbers]\n",
    "\n",
    "print(square)"
   ]
  },
  {
   "cell_type": "code",
   "execution_count": 60,
   "id": "938c2891",
   "metadata": {},
   "outputs": [
    {
     "name": "stdout",
     "output_type": "stream",
     "text": [
      "[1, 9, 25, 49]\n"
     ]
    }
   ],
   "source": [
    "odd_square =[x**2 for x in numbers if x%2 != 0]\n",
    "\n",
    "print(odd_square)"
   ]
  },
  {
   "cell_type": "code",
   "execution_count": 61,
   "id": "8f12ca60",
   "metadata": {},
   "outputs": [
    {
     "name": "stdout",
     "output_type": "stream",
     "text": [
      "[(4, 6), (4, 8), (4, 9), (6, 4), (6, 8), (6, 9), (8, 4), (8, 6), (8, 9), (9, 4), (9, 6), (9, 8)]\n"
     ]
    }
   ],
   "source": [
    "A = [4,6,8,9]\n",
    "\n",
    "AxA = [(a,b) for a in A for b in A if a!=b]\n",
    "\n",
    "print(AxA)"
   ]
  },
  {
   "cell_type": "code",
   "execution_count": 62,
   "id": "17df4e60",
   "metadata": {},
   "outputs": [
    {
     "name": "stdout",
     "output_type": "stream",
     "text": [
      "Manu\n"
     ]
    }
   ],
   "source": [
    "person = {'name' : 'Manu', 'age': 28}\n",
    "print(person['name'])"
   ]
  },
  {
   "cell_type": "code",
   "execution_count": 63,
   "id": "95fe15b0",
   "metadata": {},
   "outputs": [
    {
     "name": "stdout",
     "output_type": "stream",
     "text": [
      "True\n"
     ]
    }
   ],
   "source": [
    "print('name' in person)"
   ]
  },
  {
   "cell_type": "code",
   "execution_count": 64,
   "id": "2aac8121",
   "metadata": {},
   "outputs": [
    {
     "name": "stdout",
     "output_type": "stream",
     "text": [
      "False\n"
     ]
    }
   ],
   "source": [
    "print('sex' in person)"
   ]
  },
  {
   "cell_type": "code",
   "execution_count": 65,
   "id": "7fd894c6",
   "metadata": {},
   "outputs": [
    {
     "name": "stdout",
     "output_type": "stream",
     "text": [
      "{'name': 'Manu', 'age': 28, 'sex': 'male'}\n"
     ]
    }
   ],
   "source": [
    "person['sex'] = 'male'\n",
    "\n",
    "print(person)"
   ]
  },
  {
   "cell_type": "code",
   "execution_count": 67,
   "id": "81f7075d",
   "metadata": {},
   "outputs": [
    {
     "name": "stdout",
     "output_type": "stream",
     "text": [
      "name Manu\n",
      "age 28\n",
      "sex male\n"
     ]
    }
   ],
   "source": [
    "for item in person:\n",
    "    print(item,person[item])"
   ]
  },
  {
   "cell_type": "code",
   "execution_count": 69,
   "id": "2ec0cc35",
   "metadata": {},
   "outputs": [
    {
     "name": "stdout",
     "output_type": "stream",
     "text": [
      "Name \t:\t Manu\n",
      "Age \t:\t 28\n",
      "Sex \t:\t male\n"
     ]
    }
   ],
   "source": [
    "for (key,value) in person.items():\n",
    "\n",
    "    print(key.capitalize(),'\\t:\\t', value)"
   ]
  },
  {
   "cell_type": "code",
   "execution_count": 70,
   "id": "824d92b5",
   "metadata": {},
   "outputs": [
    {
     "name": "stdout",
     "output_type": "stream",
     "text": [
      "(1, 2, 3) (4, 5, 6)\n"
     ]
    }
   ],
   "source": [
    "t1 = (1,2,3)\n",
    "\n",
    "t2 = 4,5,6\n",
    "\n",
    "print(t1,t2)"
   ]
  },
  {
   "cell_type": "code",
   "execution_count": 71,
   "id": "08b8b4b4",
   "metadata": {},
   "outputs": [
    {
     "name": "stdout",
     "output_type": "stream",
     "text": [
      "(1, 2, 3, 4, 5, 6)\n"
     ]
    }
   ],
   "source": [
    "t3 = t1 +t2\n",
    "print(t3)"
   ]
  },
  {
   "cell_type": "code",
   "execution_count": 75,
   "id": "02edff62",
   "metadata": {},
   "outputs": [
    {
     "name": "stdout",
     "output_type": "stream",
     "text": [
      "('a', 'b', 'c', 'd')\n"
     ]
    }
   ],
   "source": [
    "lt = tuple(['a','b','c','d']) \n",
    "print(lt)"
   ]
  },
  {
   "cell_type": "code",
   "execution_count": 78,
   "id": "d5e8fc4a",
   "metadata": {},
   "outputs": [
    {
     "ename": "TypeError",
     "evalue": "'tuple' object does not support item assignment",
     "output_type": "error",
     "traceback": [
      "\u001b[0;31m---------------------------------------------------------------------------\u001b[0m",
      "\u001b[0;31mTypeError\u001b[0m                                 Traceback (most recent call last)",
      "\u001b[0;32m/tmp/ipykernel_4465/1719485783.py\u001b[0m in \u001b[0;36m<module>\u001b[0;34m\u001b[0m\n\u001b[0;32m----> 1\u001b[0;31m \u001b[0mlt\u001b[0m\u001b[0;34m[\u001b[0m\u001b[0;36m2\u001b[0m\u001b[0;34m]\u001b[0m \u001b[0;34m=\u001b[0m \u001b[0;34m'x'\u001b[0m\u001b[0;34m\u001b[0m\u001b[0;34m\u001b[0m\u001b[0m\n\u001b[0m",
      "\u001b[0;31mTypeError\u001b[0m: 'tuple' object does not support item assignment"
     ]
    }
   ],
   "source": [
    "lt[2] = 'x'"
   ]
  },
  {
   "cell_type": "code",
   "execution_count": 79,
   "id": "d72a4c71",
   "metadata": {},
   "outputs": [
    {
     "name": "stdout",
     "output_type": "stream",
     "text": [
      "{1, 2, 3} <class 'set'>\n"
     ]
    }
   ],
   "source": [
    "s = {1,2,3}\n",
    "\n",
    "print(s,type(s))"
   ]
  },
  {
   "cell_type": "code",
   "execution_count": 80,
   "id": "20cfb035",
   "metadata": {},
   "outputs": [
    {
     "name": "stdout",
     "output_type": "stream",
     "text": [
      "{'apple', 'cherry'}\n"
     ]
    }
   ],
   "source": [
    "fset = {\"apple\", \"banana\", \"cherry\"}\n",
    "fset.remove(\"banana\")\n",
    "\n",
    "print(fset)"
   ]
  },
  {
   "cell_type": "code",
   "execution_count": 81,
   "id": "3a2f3639",
   "metadata": {},
   "outputs": [
    {
     "name": "stdout",
     "output_type": "stream",
     "text": [
      "{'apple', 'cherry'}\n"
     ]
    }
   ],
   "source": [
    "fset = {\"apple\", \"banana\", \"cherry\"}\n",
    "fset.discard(\"banana\")\n",
    "\n",
    "print(fset)"
   ]
  },
  {
   "cell_type": "code",
   "execution_count": 82,
   "id": "268f25f5",
   "metadata": {},
   "outputs": [
    {
     "name": "stdout",
     "output_type": "stream",
     "text": [
      "set()\n"
     ]
    }
   ],
   "source": [
    "fset = {\"apple\", \"banana\", \"cherry\"}\n",
    "fset.clear()\n",
    "\n",
    "print(fset)"
   ]
  },
  {
   "cell_type": "code",
   "execution_count": 84,
   "id": "ff5c27c4",
   "metadata": {},
   "outputs": [
    {
     "name": "stdout",
     "output_type": "stream",
     "text": [
      "{1, 2, 3, 'a', 'b', 'c'}\n"
     ]
    }
   ],
   "source": [
    "set1 = {\"a\", \"b\" , \"c\"} \n",
    "set2 ={1, 2, 3}\n",
    "\n",
    "set3 = set1.union(set2)\n",
    "\n",
    "print(set3)"
   ]
  },
  {
   "cell_type": "code",
   "execution_count": 87,
   "id": "57c434e1",
   "metadata": {},
   "outputs": [
    {
     "name": "stdout",
     "output_type": "stream",
     "text": [
      "{'apple'}\n"
     ]
    }
   ],
   "source": [
    "x = {\"apple\", \"banana\", \"cherry\"}\n",
    "\n",
    "y = {\"google\", \"microsoft\", \"apple\"}\n",
    "\n",
    "z = x.intersection(y)\n",
    "print(z)"
   ]
  },
  {
   "cell_type": "code",
   "execution_count": 88,
   "id": "fe964c16",
   "metadata": {},
   "outputs": [
    {
     "name": "stdout",
     "output_type": "stream",
     "text": [
      "[1, 2, 3, 4, 5, 6, 7]\n"
     ]
    }
   ],
   "source": [
    "lst = [1,2,3,4,5,5,5,7,6]\n",
    "\n",
    "myset = list(set(lst))\n",
    "print(myset)"
   ]
  },
  {
   "cell_type": "code",
   "execution_count": 90,
   "id": "291adca2",
   "metadata": {},
   "outputs": [
    {
     "name": "stdout",
     "output_type": "stream",
     "text": [
      "10\n"
     ]
    }
   ],
   "source": [
    "def twice(number):\n",
    "    return 2*number\n",
    "\n",
    "t = twice(5)\n",
    "print(t)"
   ]
  },
  {
   "cell_type": "code",
   "execution_count": 101,
   "id": "19c6b031",
   "metadata": {},
   "outputs": [
    {
     "name": "stdout",
     "output_type": "stream",
     "text": [
      "Enter the number 3\n",
      "True\n"
     ]
    }
   ],
   "source": [
    "def isPrime(number):\n",
    "    for factor in range(2, (number//2)+1):\n",
    "        if number%factor == 0:\n",
    "            return False\n",
    "    return True\n",
    "\n",
    "number = int(input('Enter the number '))\n",
    "print(isPrime(number))"
   ]
  },
  {
   "cell_type": "code",
   "execution_count": 109,
   "id": "dea6b3de",
   "metadata": {},
   "outputs": [
    {
     "name": "stdout",
     "output_type": "stream",
     "text": [
      "5 7 11 13 17 19 23 29 31 37 41 43 47 "
     ]
    }
   ],
   "source": [
    "def printPrimes(llimit, ulimit):\n",
    "    for num in range(llimit, ulimit + 1):\n",
    "        if isPrime(num) == True:\n",
    "            print(num, end = ' ')\n",
    "printPrimes(5,50)"
   ]
  },
  {
   "cell_type": "code",
   "execution_count": 112,
   "id": "bc0e654a",
   "metadata": {},
   "outputs": [
    {
     "name": "stdout",
     "output_type": "stream",
     "text": [
      "7 5\n"
     ]
    }
   ],
   "source": [
    "def swap(x,y):\n",
    "\n",
    "    t = x\n",
    "\n",
    "    x = y\n",
    "\n",
    "    y = t\n",
    "\n",
    "    return x,y\n",
    "\n",
    "a=5\n",
    "b=7\n",
    "\n",
    "a,b = swap(a,b)\n",
    "print(a,b)"
   ]
  },
  {
   "cell_type": "code",
   "execution_count": 125,
   "id": "1e539146",
   "metadata": {},
   "outputs": [
    {
     "ename": "IndentationError",
     "evalue": "unexpected indent (2192387421.py, line 17)",
     "output_type": "error",
     "traceback": [
      "\u001b[0;36m  File \u001b[0;32m\"/tmp/ipykernel_4465/2192387421.py\"\u001b[0;36m, line \u001b[0;32m17\u001b[0m\n\u001b[0;31m    self.sum\u001b[0m\n\u001b[0m    ^\u001b[0m\n\u001b[0;31mIndentationError\u001b[0m\u001b[0;31m:\u001b[0m unexpected indent\n"
     ]
    }
   ],
   "source": [
    "class Adder:\n",
    "\n",
    "    def init(self):\n",
    "\n",
    "        self.x = 0\n",
    "\n",
    "        self.y = 0\n",
    "    def setValues(self, x, y):\n",
    "\n",
    "        self. x = x\n",
    "\n",
    "        self. y = y\n",
    "    def calculate(self1):\n",
    "\n",
    "        self1. sum = self1. x + self1. y\n",
    "    def getSum(self): return\n",
    "        self.sum\n",
    "        adder =Adder()\n",
    "        adder.setValues(5,4)\n",
    "        adder.calculate()\n",
    "print(adder.getSum())"
   ]
  },
  {
   "cell_type": "code",
   "execution_count": 117,
   "id": "2bac2edc",
   "metadata": {},
   "outputs": [],
   "source": []
  },
  {
   "cell_type": "code",
   "execution_count": null,
   "id": "11f3eac0",
   "metadata": {},
   "outputs": [],
   "source": []
  }
 ],
 "metadata": {
  "kernelspec": {
   "display_name": "Python 3 (ipykernel)",
   "language": "python",
   "name": "python3"
  },
  "language_info": {
   "codemirror_mode": {
    "name": "ipython",
    "version": 3
   },
   "file_extension": ".py",
   "mimetype": "text/x-python",
   "name": "python",
   "nbconvert_exporter": "python",
   "pygments_lexer": "ipython3",
   "version": "3.9.7"
  }
 },
 "nbformat": 4,
 "nbformat_minor": 5
}
